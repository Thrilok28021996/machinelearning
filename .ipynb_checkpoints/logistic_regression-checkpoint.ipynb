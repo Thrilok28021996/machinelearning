{
 "cells": [
  {
   "cell_type": "code",
   "execution_count": 1,
   "id": "adee6194",
   "metadata": {},
   "outputs": [],
   "source": [
    "# import sys\n",
    "# assert sys.version_info >= (3,5)\n",
    "\n",
    "# import sklearn\n",
    "# assert sklearn.__version__>= \"0.20\"\n",
    "\n",
    "# import numpy as np\n",
    "# import os\n",
    "# import pandas as pd\n",
    "\n",
    "# %matplotlib inline\n",
    "# import matplotlib as mpl\n",
    "# import matplotlib.pyplot as plt\n",
    "# import seaborn as sns\n",
    "\n",
    "# mpl.rc('axes',labelsize=14)\n",
    "# mpl.rc('xtick',labelsize=12)\n",
    "# mpl.rc('ytick',labelsize=12)\n",
    "\n",
    "# import torch\n",
    "# import random\n",
    "# import torch.utils.data as data_utils\n",
    "# import torch.nn.functional as F"
   ]
  },
  {
   "cell_type": "code",
   "execution_count": 2,
   "id": "d3c38054",
   "metadata": {},
   "outputs": [],
   "source": [
    "# url  = 'https://raw.githubusercontent.com/hargurjeet/MachineLearning/Wheat-Seeds/seeds.csv'\n",
    "# df = pd.read_csv(url)\n",
    "# df.head()"
   ]
  },
  {
   "cell_type": "code",
   "execution_count": 3,
   "id": "34012de0",
   "metadata": {},
   "outputs": [],
   "source": [
    "# df.hist(figsize=(20,15))\n"
   ]
  },
  {
   "cell_type": "code",
   "execution_count": 4,
   "id": "e625663f",
   "metadata": {},
   "outputs": [],
   "source": [
    "# df.corr()"
   ]
  },
  {
   "cell_type": "code",
   "execution_count": 5,
   "id": "f4a5c627",
   "metadata": {},
   "outputs": [],
   "source": [
    "# plt.rcParams[\"figure.figsize\"] = (20,6)\n",
    "# sns.scatterplot(data=df, x = \"Area\",y=\"Kernel.Length\",hue=\"Type\",palette =\"deep\")"
   ]
  },
  {
   "cell_type": "code",
   "execution_count": 6,
   "id": "e2ca0cf2",
   "metadata": {},
   "outputs": [],
   "source": [
    "# sns.scatterplot(data=df, x = \"Area\",y=\"Kernel.Width\",hue=\"Type\",palette =\"deep\")"
   ]
  },
  {
   "cell_type": "code",
   "execution_count": 7,
   "id": "f8f85ee0",
   "metadata": {},
   "outputs": [],
   "source": [
    "# sns.scatterplot(data=df,x=\"Kernel.Groove\",y=\"Perimeter\",hue=\"Type\",palette=\"deep\")"
   ]
  },
  {
   "cell_type": "code",
   "execution_count": 8,
   "id": "a77a046b",
   "metadata": {},
   "outputs": [],
   "source": [
    "# from torch.utils.data import random_split\n",
    "# import torch\n",
    "# import random\n",
    "# from torch.utils.data import TensorDataset\n",
    "\n",
    "# def update_values_(df):\n",
    "#     for i in range(len(df)):\n",
    "#         df[i] = df[i] - 1\n",
    "#     return df\n",
    "\n",
    "# train_target = torch.tensor(df['Type'].values.astype(np.int64))\n",
    "# train = torch.tensor(df.drop('Type',axis=1).values.astype(np.float32))\n",
    "\n",
    "# train_tensor = TensorDataset(train,update_values_(train_target))\n",
    "# train_ds,val_ds = random_split(train_tensor,[180,19])\n",
    "# len(train_ds),len(val_ds)"
   ]
  },
  {
   "cell_type": "code",
   "execution_count": 9,
   "id": "bbe04460",
   "metadata": {},
   "outputs": [],
   "source": [
    "# from torch.utils.data import DataLoader\n",
    "\n",
    "# batch_size = 64\n",
    "\n",
    "# train_loader = DataLoader(train_ds,batch_size,shuffle=True)\n",
    "# val_loader = DataLoader(val_ds,batch_size)"
   ]
  },
  {
   "cell_type": "code",
   "execution_count": 10,
   "id": "6edee9b4",
   "metadata": {},
   "outputs": [],
   "source": [
    "# import torch.nn as nn\n",
    "\n",
    "# input_size = 1*7\n",
    "# num_classes = 3\n",
    "# model = nn.Linear(input_size,num_classes)"
   ]
  },
  {
   "cell_type": "code",
   "execution_count": 11,
   "id": "a14a2a7b",
   "metadata": {},
   "outputs": [],
   "source": [
    "# class Wheatseed(nn.Module):\n",
    "#     def __init__(self):\n",
    "#         super().__init__()\n",
    "#         self.linear = nn.Linear(input_size,num_classes)\n",
    "    \n",
    "#     def forward(self,xb):\n",
    "#         out = self.linear(xb)\n",
    "#         return out\n",
    "\n",
    "# model = Wheatseed()"
   ]
  },
  {
   "cell_type": "code",
   "execution_count": 12,
   "id": "d6d882a6",
   "metadata": {},
   "outputs": [],
   "source": [
    "# model.linear"
   ]
  },
  {
   "cell_type": "code",
   "execution_count": 13,
   "id": "76c560fb",
   "metadata": {},
   "outputs": [],
   "source": [
    "# class Wheatseed(nn.Module):\n",
    "#     def __init__(self):\n",
    "#         super().__init__()\n",
    "#         self.linear = nn.Linear(input_size,num_classes)\n",
    "    \n",
    "#     def forward(self,xb):\n",
    "#         out = self.linear(xb)\n",
    "#         return out\n",
    "    \n",
    "#     def training_step(self,batch):\n",
    "#         images,labels = batch\n",
    "#         out = self(images)\n",
    "#         loss = F.cross_entropy(out,labels)\n",
    "#         return loss\n",
    "    \n",
    "#     def validation_step(self,batch):\n",
    "#         images,labels = batch\n",
    "#         out = self(images)\n",
    "#         loss = F.cross_entropy(out,labels)\n",
    "#         acc = accuracy(out,labels)\n",
    "#         return {'val_loss':loss,'val_acc':acc}\n",
    "    \n",
    "#     def validation_epoch_end(self,outputs):\n",
    "#         batch_losses = [x['val_loss'] for x in outputs]\n",
    "#         epoch_loss = torch.stack(batch_losses).mean()\n",
    "#         batch_accs = [x['val_acc'] for x in outputs]\n",
    "#         epoch_acc = torch.stack(batch_accs).mean()\n",
    "#         return {'val_loss':epoch_loss.item(),'val_acc':epoch_acc.item()}\n",
    "    \n",
    "#     def epoch_end(self,epoch,result):\n",
    "#         print(\"Epoch [{}],val_loss: {:.4f}, val_acc: {:.4f}\".format(epoch,result['val_loss'],result['val_acc']))\n",
    "\n",
    "# model = Wheatseed()"
   ]
  },
  {
   "cell_type": "code",
   "execution_count": 14,
   "id": "fec56ccf",
   "metadata": {},
   "outputs": [],
   "source": [
    "# def accuracy(outputs,labels):\n",
    "#     _, preds = torch.max(outputs,dim=1)\n",
    "#     return torch.tensor(torch.sum(preds == labels).item() / len(preds))"
   ]
  },
  {
   "cell_type": "code",
   "execution_count": 15,
   "id": "a638b612",
   "metadata": {},
   "outputs": [],
   "source": [
    "# def fit(epochs,lr,model,train_loader,val_loader,opt_func=torch.optim.SGD):\n",
    "#     optimizer = opt_func(model.parameters(),lr)\n",
    "#     history = []\n",
    "    \n",
    "#     for epoch in range(epochs):\n",
    "        \n",
    "#         for batch in train_loader:\n",
    "#             loss = model.training_step(batch)\n",
    "#             loss.backward()\n",
    "#             optimizer.step()\n",
    "#             optimizer.zero_grad()\n",
    "        \n",
    "#         result = evaluate(model,val_loader)\n",
    "#         model.epoch_end(epoch,result)\n",
    "#         history.append(result)\n",
    "#     return history\n",
    "\n",
    "\n",
    "# def evaluate(model,val_loader):\n",
    "#     outputs = [model.validation_step(batch) for batch in val_loader]\n",
    "#     return model.validation_epoch_end(outputs)"
   ]
  },
  {
   "cell_type": "code",
   "execution_count": 16,
   "id": "4dc77158",
   "metadata": {},
   "outputs": [],
   "source": [
    "# result0 = evaluate(model,val_loader)\n",
    "# result0"
   ]
  },
  {
   "cell_type": "code",
   "execution_count": 17,
   "id": "0498c9fb",
   "metadata": {},
   "outputs": [],
   "source": [
    "#history1 = fit(5,0.001,model,train_loader,val_loader)"
   ]
  },
  {
   "cell_type": "code",
   "execution_count": 18,
   "id": "002a7ab7",
   "metadata": {},
   "outputs": [],
   "source": [
    "#history2 = fit(5,0.001,model,train_loader,val_loader)"
   ]
  },
  {
   "cell_type": "code",
   "execution_count": 19,
   "id": "dbbab9cf",
   "metadata": {},
   "outputs": [],
   "source": [
    "#history3 = fit(5,0.001,model,train_loader,val_loader)"
   ]
  },
  {
   "cell_type": "code",
   "execution_count": 20,
   "id": "428167dd",
   "metadata": {},
   "outputs": [],
   "source": [
    "#history4 = fit(5,0.001,model,train_loader,val_loader)"
   ]
  },
  {
   "cell_type": "code",
   "execution_count": 21,
   "id": "b5863274",
   "metadata": {},
   "outputs": [],
   "source": [
    "#history = [result0] + history1 + history2 + history3 + history4\n",
    "# accuracies = [result['val_acc'] for result in history]\n",
    "# plt.rcParams[\"figure.figsize\"] = (6,6)\n",
    "# plt.plot(accuracies,'-x')\n",
    "# plt.xlabel('epoch')\n",
    "# plt.ylabel('accuracy')\n",
    "# plt.grid()\n",
    "# plt.title('Accuracy vs No. of epochs')\n",
    "# plt.show()"
   ]
  },
  {
   "cell_type": "code",
   "execution_count": 22,
   "id": "6fe9fed7",
   "metadata": {},
   "outputs": [
    {
     "name": "stderr",
     "output_type": "stream",
     "text": [
      "/Users/thrilok/miniforge3/envs/pytorch/lib/python3.8/site-packages/tqdm/auto.py:22: TqdmWarning: IProgress not found. Please update jupyter and ipywidgets. See https://ipywidgets.readthedocs.io/en/stable/user_install.html\n",
      "  from .autonotebook import tqdm as notebook_tqdm\n"
     ]
    }
   ],
   "source": [
    "import seaborn as sns\n",
    "import numpy as np\n",
    "from sklearn.model_selection import train_test_split\n",
    "import matplotlib\n",
    "from tqdm import tqdm\n",
    "import torch\n",
    "\n",
    "sns.set_style(\"darkgrid\")\n",
    "\n",
    "from sklearn.datasets import make_classification\n",
    "import matplotlib.pyplot as plt"
   ]
  },
  {
   "cell_type": "code",
   "execution_count": 23,
   "id": "4c7fc902",
   "metadata": {},
   "outputs": [],
   "source": [
    "separable = False\n",
    "while not separable:\n",
    "    samples = make_classification(n_samples=1000,n_features=2,n_redundant=0,n_informative=1,n_clusters_per_class=1,flip_y=-1)\n",
    "    red = samples[0][samples[1] == 0]\n",
    "    blue = samples[0][samples[1] == 1]\n",
    "    separable = any([red[:,k].max() < blue[:,k].min() or red[:,k].min() > blue[:,k].max() for k in range(2)])\n",
    "    "
   ]
  },
  {
   "cell_type": "code",
   "execution_count": 24,
   "id": "5193bcdb",
   "metadata": {},
   "outputs": [],
   "source": [
    "red_labels = np.zeros(len(red))\n",
    "blue_labels = np.ones(len(blue))"
   ]
  },
  {
   "cell_type": "code",
   "execution_count": 25,
   "id": "45ad71f5",
   "metadata": {},
   "outputs": [],
   "source": [
    "labels = np.append(red_labels,blue_labels)\n",
    "inputs = np.concatenate((red,blue),axis=0)"
   ]
  },
  {
   "cell_type": "code",
   "execution_count": 26,
   "id": "17851883",
   "metadata": {},
   "outputs": [],
   "source": [
    "X_train, X_test,y_train,y_test = train_test_split(inputs, labels,test_size=0.33,random_state= 42)"
   ]
  },
  {
   "cell_type": "code",
   "execution_count": 27,
   "id": "d8b388e8",
   "metadata": {},
   "outputs": [],
   "source": [
    "class LogisticRegression(torch.nn.Module):\n",
    "    def __init__(self,input_dim,output_dim):\n",
    "        super(LogisticRegression,self).__init__()\n",
    "        self.linear = torch.nn.Linear(input_dim,output_dim)\n",
    "    \n",
    "    def forward(self,x):\n",
    "        outputs = torch.sigmoid(self.linear(x))\n",
    "        return outputs"
   ]
  },
  {
   "cell_type": "code",
   "execution_count": 28,
   "id": "ba03890e",
   "metadata": {},
   "outputs": [],
   "source": [
    "epochs = 200000\n",
    "input_dim = 2\n",
    "output_dim = 1\n",
    "learning_rate = 0.01\n",
    "\n",
    "model = LogisticRegression(input_dim,output_dim)\n",
    "\n",
    "criterion = torch.nn.BCELoss()\n",
    "optimizer = torch.optim.SGD(model.parameters(),lr = learning_rate)\n",
    "\n",
    "X_train,X_test = torch.Tensor(X_train),torch.Tensor(X_test)\n",
    "y_train,y_test = torch.Tensor(y_train),torch.Tensor(y_test)"
   ]
  },
  {
   "cell_type": "code",
   "execution_count": 29,
   "id": "a09d10cd",
   "metadata": {},
   "outputs": [
    {
     "name": "stderr",
     "output_type": "stream",
     "text": [
      "Training Epochs:   6%|██▏                                 | 12416/200000 [00:00<00:10, 17885.03it/s]"
     ]
    },
    {
     "name": "stdout",
     "output_type": "stream",
     "text": [
      "Iteration: 10000. \n",
      " Test - Loss: 0.017205530777573586.Accuracy:100.0\n",
      "Train - Loss: 0.01787172444164753. Accuracy:99.85074626865672\n",
      "\n"
     ]
    },
    {
     "name": "stderr",
     "output_type": "stream",
     "text": [
      "Training Epochs:  12%|████▏                               | 23177/200000 [00:01<00:09, 17931.24it/s]"
     ]
    },
    {
     "name": "stdout",
     "output_type": "stream",
     "text": [
      "Iteration: 20000. \n",
      " Test - Loss: 0.009488829411566257.Accuracy:100.0\n",
      "Train - Loss: 0.010550038889050484. Accuracy:99.85074626865672\n",
      "\n"
     ]
    },
    {
     "name": "stderr",
     "output_type": "stream",
     "text": [
      "Training Epochs:  16%|█████▊                              | 32119/200000 [00:01<00:09, 17775.55it/s]"
     ]
    },
    {
     "name": "stdout",
     "output_type": "stream",
     "text": [
      "Iteration: 30000. \n",
      " Test - Loss: 0.00669466145336628.Accuracy:100.0\n",
      "Train - Loss: 0.007867339998483658. Accuracy:99.85074626865672\n",
      "\n"
     ]
    },
    {
     "name": "stderr",
     "output_type": "stream",
     "text": [
      "Training Epochs:  21%|███████▋                            | 42795/200000 [00:02<00:08, 17662.39it/s]"
     ]
    },
    {
     "name": "stdout",
     "output_type": "stream",
     "text": [
      "Iteration: 40000. \n",
      " Test - Loss: 0.005224023014307022.Accuracy:100.0\n",
      "Train - Loss: 0.006429117638617754. Accuracy:99.85074626865672\n",
      "\n"
     ]
    },
    {
     "name": "stderr",
     "output_type": "stream",
     "text": [
      "Training Epochs:  27%|█████████▋                          | 53520/200000 [00:03<00:08, 17694.11it/s]"
     ]
    },
    {
     "name": "stdout",
     "output_type": "stream",
     "text": [
      "Iteration: 50000. \n",
      " Test - Loss: 0.0043084751814603806.Accuracy:100.0\n",
      "Train - Loss: 0.005514625459909439. Accuracy:99.85074626865672\n",
      "\n"
     ]
    },
    {
     "name": "stderr",
     "output_type": "stream",
     "text": [
      "Training Epochs:  31%|███████████▏                        | 62467/200000 [00:03<00:07, 17893.35it/s]"
     ]
    },
    {
     "name": "stdout",
     "output_type": "stream",
     "text": [
      "Iteration: 60000. \n",
      " Test - Loss: 0.003680482739582658.Accuracy:100.0\n",
      "Train - Loss: 0.004873191472142935. Accuracy:99.85074626865672\n",
      "\n"
     ]
    },
    {
     "name": "stderr",
     "output_type": "stream",
     "text": [
      "Training Epochs:  37%|█████████████▏                      | 73130/200000 [00:04<00:07, 17579.53it/s]"
     ]
    },
    {
     "name": "stdout",
     "output_type": "stream",
     "text": [
      "Iteration: 70000. \n",
      " Test - Loss: 0.003221458289772272.Accuracy:100.0\n",
      "Train - Loss: 0.004393608774989843. Accuracy:99.85074626865672\n",
      "\n"
     ]
    },
    {
     "name": "stderr",
     "output_type": "stream",
     "text": [
      "Training Epochs:  41%|██████████████▊                     | 81971/200000 [00:04<00:06, 17696.62it/s]"
     ]
    },
    {
     "name": "stdout",
     "output_type": "stream",
     "text": [
      "Iteration: 80000. \n",
      " Test - Loss: 0.002870592288672924.Accuracy:100.0\n",
      "Train - Loss: 0.004018631298094988. Accuracy:99.85074626865672\n",
      "\n"
     ]
    },
    {
     "name": "stderr",
     "output_type": "stream",
     "text": [
      "Training Epochs:  46%|████████████████▋                   | 92760/200000 [00:05<00:05, 17915.86it/s]"
     ]
    },
    {
     "name": "stdout",
     "output_type": "stream",
     "text": [
      "Iteration: 90000. \n",
      " Test - Loss: 0.0025931503623723984.Accuracy:100.0\n",
      "Train - Loss: 0.0037154746241867542. Accuracy:99.85074626865672\n",
      "\n"
     ]
    },
    {
     "name": "stderr",
     "output_type": "stream",
     "text": [
      "Training Epochs:  52%|██████████████████                 | 103446/200000 [00:05<00:05, 17558.28it/s]"
     ]
    },
    {
     "name": "stdout",
     "output_type": "stream",
     "text": [
      "Iteration: 100000. \n",
      " Test - Loss: 0.0023680373560637236.Accuracy:100.0\n",
      "Train - Loss: 0.003464127192273736. Accuracy:99.85074626865672\n",
      "\n"
     ]
    },
    {
     "name": "stderr",
     "output_type": "stream",
     "text": [
      "Training Epochs:  56%|███████████████████▋               | 112394/200000 [00:06<00:04, 17882.23it/s]"
     ]
    },
    {
     "name": "stdout",
     "output_type": "stream",
     "text": [
      "Iteration: 110000. \n",
      " Test - Loss: 0.002181760733947158.Accuracy:100.0\n",
      "Train - Loss: 0.00325165712274611. Accuracy:99.85074626865672\n",
      "\n"
     ]
    },
    {
     "name": "stderr",
     "output_type": "stream",
     "text": [
      "Training Epochs:  62%|█████████████████████▌             | 123036/200000 [00:06<00:04, 17549.17it/s]"
     ]
    },
    {
     "name": "stdout",
     "output_type": "stream",
     "text": [
      "Iteration: 120000. \n",
      " Test - Loss: 0.002024539979174733.Accuracy:100.0\n",
      "Train - Loss: 0.003068774938583374. Accuracy:100.0\n",
      "\n"
     ]
    },
    {
     "name": "stderr",
     "output_type": "stream",
     "text": [
      "Training Epochs:  66%|███████████████████████            | 131869/200000 [00:07<00:03, 17692.84it/s]"
     ]
    },
    {
     "name": "stdout",
     "output_type": "stream",
     "text": [
      "Iteration: 130000. \n",
      " Test - Loss: 0.0018905005417764187.Accuracy:100.0\n",
      "Train - Loss: 0.002909724833443761. Accuracy:100.0\n",
      "\n"
     ]
    },
    {
     "name": "stderr",
     "output_type": "stream",
     "text": [
      "Training Epochs:  71%|████████████████████████▉          | 142643/200000 [00:08<00:03, 17954.49it/s]"
     ]
    },
    {
     "name": "stdout",
     "output_type": "stream",
     "text": [
      "Iteration: 140000. \n",
      " Test - Loss: 0.001774098607711494.Accuracy:100.0\n",
      "Train - Loss: 0.0027691179420799017. Accuracy:100.0\n",
      "\n"
     ]
    },
    {
     "name": "stderr",
     "output_type": "stream",
     "text": [
      "Training Epochs:  77%|██████████████████████████▊        | 153445/200000 [00:08<00:02, 17982.09it/s]"
     ]
    },
    {
     "name": "stdout",
     "output_type": "stream",
     "text": [
      "Iteration: 150000. \n",
      " Test - Loss: 0.0016740115825086832.Accuracy:100.0\n",
      "Train - Loss: 0.0026454227045178413. Accuracy:100.0\n",
      "\n"
     ]
    },
    {
     "name": "stderr",
     "output_type": "stream",
     "text": [
      "Training Epochs:  81%|████████████████████████████▍      | 162440/200000 [00:09<00:02, 17918.72it/s]"
     ]
    },
    {
     "name": "stdout",
     "output_type": "stream",
     "text": [
      "Iteration: 160000. \n",
      " Test - Loss: 0.0015824346337467432.Accuracy:100.0\n",
      "Train - Loss: 0.002531802048906684. Accuracy:100.0\n",
      "\n"
     ]
    },
    {
     "name": "stderr",
     "output_type": "stream",
     "text": [
      "Training Epochs:  87%|██████████████████████████████▎    | 173216/200000 [00:09<00:01, 17877.81it/s]"
     ]
    },
    {
     "name": "stdout",
     "output_type": "stream",
     "text": [
      "Iteration: 170000. \n",
      " Test - Loss: 0.0015049719950184226.Accuracy:100.0\n",
      "Train - Loss: 0.0024323444813489914. Accuracy:100.0\n",
      "\n"
     ]
    },
    {
     "name": "stderr",
     "output_type": "stream",
     "text": [
      "Training Epochs:  91%|███████████████████████████████▉   | 182198/200000 [00:10<00:01, 17739.91it/s]"
     ]
    },
    {
     "name": "stdout",
     "output_type": "stream",
     "text": [
      "Iteration: 180000. \n",
      " Test - Loss: 0.001432335702702403.Accuracy:100.0\n",
      "Train - Loss: 0.002339267637580633. Accuracy:100.0\n",
      "\n"
     ]
    },
    {
     "name": "stderr",
     "output_type": "stream",
     "text": [
      "Training Epochs:  96%|█████████████████████████████████▋ | 192785/200000 [00:10<00:00, 17568.34it/s]"
     ]
    },
    {
     "name": "stdout",
     "output_type": "stream",
     "text": [
      "Iteration: 190000. \n",
      " Test - Loss: 0.0013687332393601537.Accuracy:100.0\n",
      "Train - Loss: 0.0022556395269930363. Accuracy:100.0\n",
      "\n"
     ]
    },
    {
     "name": "stderr",
     "output_type": "stream",
     "text": [
      "Training Epochs: 100%|███████████████████████████████████| 200000/200000 [00:11<00:00, 17764.33it/s]"
     ]
    },
    {
     "name": "stdout",
     "output_type": "stream",
     "text": [
      "Iteration: 200000. \n",
      " Test - Loss: 0.001311505795456469.Accuracy:100.0\n",
      "Train - Loss: 0.002179124392569065. Accuracy:100.0\n",
      "\n"
     ]
    },
    {
     "name": "stderr",
     "output_type": "stream",
     "text": [
      "\n"
     ]
    }
   ],
   "source": [
    "losses =[]\n",
    "losses_test = []\n",
    "Iterations = []\n",
    "iter = 0\n",
    "for epoch in tqdm(range(int(epochs)), desc='Training Epochs'):\n",
    "    x = X_train\n",
    "    labels = y_train\n",
    "    optimizer.zero_grad()\n",
    "    outputs = model(X_train)\n",
    "    loss = criterion(torch.squeeze(outputs),labels)\n",
    "    loss.backward()\n",
    "    optimizer.step()\n",
    "    iter+= 1\n",
    "    \n",
    "    if iter%10000 == 0:\n",
    "        with torch.no_grad():\n",
    "            correct_test = 0\n",
    "            total_test = 0\n",
    "            outputs_test = torch.squeeze(model(X_test))\n",
    "            loss_test = criterion(outputs_test,y_test)\n",
    "            predicted_test= outputs_test.round().detach().numpy()\n",
    "            total_test += y_test.size(0)\n",
    "            correct_test += np.sum(predicted_test == y_test.detach().numpy())\n",
    "            accuracy_test = 100 * correct_test/total_test\n",
    "            losses_test.append(loss_test.item())\n",
    "            \n",
    "            total = 0\n",
    "            correct = 0\n",
    "            total += y_train.size(0)\n",
    "            correct += np.sum(torch.squeeze(outputs).round().detach().numpy() == y_train.detach().numpy())\n",
    "            accuracy = 100 * correct/total\n",
    "            losses.append(loss.item())\n",
    "            Iterations.append(iter)\n",
    "            \n",
    "            print(f\"Iteration: {iter}. \\n Test - Loss: {loss_test.item()}.Accuracy:{accuracy_test}\")\n",
    "            print(f\"Train - Loss: {loss.item()}. Accuracy:{accuracy}\\n\")\n",
    "        "
   ]
  },
  {
   "cell_type": "code",
   "execution_count": 33,
   "id": "261a852e",
   "metadata": {},
   "outputs": [],
   "source": [
    "def model_plot(model,X,y,title):\n",
    "    parm = {}\n",
    "    b = []\n",
    "    for name,param in model.named_parameters():\n",
    "        parm[name] = param.detach().numpy()\n",
    "    \n",
    "    w = parm['linear.weight'][0]\n",
    "    b = parm['linear.bias'][0]\n",
    "    plt.scatter(X[:,0],X[:,1],c=y,cmap='jet')\n",
    "    u = np.linspace(X[:,0].min(),X[:,0].max(),2)\n",
    "    plt.plot(u, (0.5-b-w[0] * u)/w[1])\n",
    "    plt.xlim(X[:,0].min()-0.5, X[:,0].max() + 0.5)\n",
    "    plt.ylim(X[:,1].min() - 0.5, X[:,1].max() + 0.5)\n",
    "    plt.xlabel('x')\n",
    "    plt.ylabel('y')\n",
    "    plt.title(title)\n",
    "    plt.show()"
   ]
  },
  {
   "cell_type": "code",
   "execution_count": 34,
   "id": "d1a3056f",
   "metadata": {},
   "outputs": [
    {
     "data": {
      "image/png": "[encoded data removed]",
      "text/plain": [
       "<Figure size 432x288 with 1 Axes>"
      ]
     },
     "metadata": {},
     "output_type": "display_data"
    }
   ],
   "source": [
    "model_plot(model,X_train,y_train,'Train Data')"
   ]
  },
  {
   "cell_type": "code",
   "execution_count": 35,
   "id": "c29d125e",
   "metadata": {},
   "outputs": [
    {
     "data": {
      "image/png": "[encoded data removed]",
      "text/plain": [
       "<Figure size 432x288 with 1 Axes>"
      ]
     },
     "metadata": {},
     "output_type": "display_data"
    }
   ],
   "source": [
    "model_plot(model,X_test,y_test,'Test data')"
   ]
  },
  {
   "cell_type": "code",
   "execution_count": null,
   "id": "a81f1be6",
   "metadata": {},
   "outputs": [],
   "source": []
  }
 ],
 "metadata": {
  "kernelspec": {
   "display_name": "Python 3 (ipykernel)",
   "language": "python",
   "name": "python3"
  },
  "language_info": {
   "codemirror_mode": {
    "name": "ipython",
    "version": 3
   },
   "file_extension": ".py",
   "mimetype": "text/x-python",
   "name": "python",
   "nbconvert_exporter": "python",
   "pygments_lexer": "ipython3",
   "version": "3.8.13"
  }
 },
 "nbformat": 4,
 "nbformat_minor": 5
}
