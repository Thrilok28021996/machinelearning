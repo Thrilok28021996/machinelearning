{
 "cells": [
  {
   "cell_type": "markdown",
   "id": "56f38ec8",
   "metadata": {},
   "source": [
    "The great thing about PyTorch Geometric is that it contain useful functionalities to import and load graph related data."
   ]
  },
  {
   "cell_type": "code",
   "execution_count": 1,
   "id": "44298d62",
   "metadata": {},
   "outputs": [],
   "source": [
    "import torch\n",
    "from torch_geometric.data import Data"
   ]
  },
  {
   "cell_type": "markdown",
   "id": "5e893ef8",
   "metadata": {},
   "source": [
    "Now let's create an unweighted and undirected graph with three nodes and four total edges."
   ]
  },
  {
   "cell_type": "code",
   "execution_count": 2,
   "id": "2f7e5207",
   "metadata": {},
   "outputs": [
    {
     "name": "stdout",
     "output_type": "stream",
     "text": [
      "Data(x=[3, 1], edge_index=[2, 4])\n"
     ]
    }
   ],
   "source": [
    "edge_index = torch.tensor([[0,1,1,2],[1,0,2,1]],dtype=torch.long)\n",
    "x = torch.tensor([[-1],[0],[1]])\n",
    "data = Data(x=x,edge_index=edge_index)\n",
    "print(data)"
   ]
  },
  {
   "cell_type": "markdown",
   "id": "a6edb5ce",
   "metadata": {},
   "source": [
    "Our data object Data has many useful utility functions to check the properties of the graph. "
   ]
  },
  {
   "cell_type": "code",
   "execution_count": 3,
   "id": "455a9799",
   "metadata": {},
   "outputs": [
    {
     "name": "stdout",
     "output_type": "stream",
     "text": [
      "4\n"
     ]
    }
   ],
   "source": [
    "print(data.num_edges)"
   ]
  },
  {
   "cell_type": "code",
   "execution_count": 4,
   "id": "9b848084",
   "metadata": {},
   "outputs": [
    {
     "name": "stdout",
     "output_type": "stream",
     "text": [
      "3\n"
     ]
    }
   ],
   "source": [
    "print(data.num_nodes)"
   ]
  },
  {
   "cell_type": "code",
   "execution_count": 5,
   "id": "28b56b90",
   "metadata": {},
   "outputs": [
    {
     "name": "stdout",
     "output_type": "stream",
     "text": [
      "1\n"
     ]
    }
   ],
   "source": [
    "print(data.num_features)"
   ]
  },
  {
   "cell_type": "code",
   "execution_count": 6,
   "id": "9bad51c8",
   "metadata": {},
   "outputs": [
    {
     "name": "stdout",
     "output_type": "stream",
     "text": [
      "False\n"
     ]
    }
   ],
   "source": [
    "print(data.is_directed())"
   ]
  },
  {
   "cell_type": "markdown",
   "id": "33f28e87",
   "metadata": {},
   "source": [
    "Loading Data\n",
    "\n",
    "Find more fun functions related to graph data here.\n",
    "\n",
    "One of the cool things about the PyTorch Geometric library is that it contains out-of-the-box benchmark datasets that are ready to use and explore. A popular dataset is the Cora dataset that is used for supervised graph node classification. (We will talk about these applications in an upcoming tutorial but for now we will focus on the data itself).\n",
    "\n",
    "\"The Cora dataset consists of 2708 scientific publications classified into one of seven classes. The citation network consists of 5429 links. Each publication in the dataset is described by a 0/1-valued word vector indicating the absence/presence of the corresponding word from the dictionary. The dictionary consists of 1433 unique words.\" - Papers with Code.\n",
    "\n",
    "Let's load the Cora dataset:"
   ]
  },
  {
   "cell_type": "code",
   "execution_count": 8,
   "id": "f2d9368f",
   "metadata": {},
   "outputs": [
    {
     "name": "stderr",
     "output_type": "stream",
     "text": [
      "Downloading https://github.com/kimiyoung/planetoid/raw/master/data/ind.cora.x\n",
      "Downloading https://github.com/kimiyoung/planetoid/raw/master/data/ind.cora.tx\n",
      "Downloading https://github.com/kimiyoung/planetoid/raw/master/data/ind.cora.allx\n",
      "Downloading https://github.com/kimiyoung/planetoid/raw/master/data/ind.cora.y\n",
      "Downloading https://github.com/kimiyoung/planetoid/raw/master/data/ind.cora.ty\n",
      "Downloading https://github.com/kimiyoung/planetoid/raw/master/data/ind.cora.ally\n",
      "Downloading https://github.com/kimiyoung/planetoid/raw/master/data/ind.cora.graph\n",
      "Downloading https://github.com/kimiyoung/planetoid/raw/master/data/ind.cora.test.index\n",
      "Processing...\n",
      "Done!\n"
     ]
    }
   ],
   "source": [
    "from torch_geometric.datasets import Planetoid\n",
    "dataset = Planetoid(root='tmp/Cora',name='Cora')"
   ]
  },
  {
   "cell_type": "code",
   "execution_count": 9,
   "id": "2a4842aa",
   "metadata": {},
   "outputs": [
    {
     "name": "stdout",
     "output_type": "stream",
     "text": [
      "Numberof graphs: 1\n",
      "Number of features: 1433\n",
      "Number of classes: 7\n"
     ]
    }
   ],
   "source": [
    "print('Numberof graphs:',len(dataset))\n",
    "print('Number of features:',dataset.num_features)\n",
    "print('Number of classes:',dataset.num_classes)"
   ]
  },
  {
   "cell_type": "markdown",
   "id": "0fdacb1f",
   "metadata": {},
   "source": [
    "We can see that this particular graph dataset only contains one graph. Graph data can be very complex and can include multiple graphs depending on the type of data and application. Let's check more feature of the Cora dataset:"
   ]
  },
  {
   "cell_type": "code",
   "execution_count": 10,
   "id": "e764cfee",
   "metadata": {},
   "outputs": [
    {
     "name": "stdout",
     "output_type": "stream",
     "text": [
      "Number of nodes: 2708\n",
      "Number of edges 10556\n",
      "Is directed: False\n"
     ]
    }
   ],
   "source": [
    "data = dataset[0]\n",
    "\n",
    "print('Number of nodes:',data.num_nodes)\n",
    "\n",
    "print('Number of edges',data.num_edges)\n",
    "\n",
    "print('Is directed:',data.is_directed())\n"
   ]
  },
  {
   "cell_type": "markdown",
   "id": "05f0e364",
   "metadata": {},
   "source": [
    "You can sample nodes from the graph this way:"
   ]
  },
  {
   "cell_type": "code",
   "execution_count": 11,
   "id": "42dabda2",
   "metadata": {},
   "outputs": [
    {
     "name": "stdout",
     "output_type": "stream",
     "text": [
      "shape of sample nodes: torch.Size([5, 1433])\n"
     ]
    }
   ],
   "source": [
    "print('shape of sample nodes:',data.x[:5].shape)"
   ]
  },
  {
   "cell_type": "markdown",
   "id": "a3cd95a8",
   "metadata": {},
   "source": [
    "We extracted 5 nodes from the graph and checked its shape. You will see that each node has 1433 features.\n",
    "\n",
    "Another great advantage of using PyTorch Geometric to load the Cora data is that it comes pre-processed and ready to use. It also has the splits for training, validation and test which we can directly use for training a GNN.\n",
    "\n",
    "Let's check some stats for the partitions of the data:\n"
   ]
  },
  {
   "cell_type": "code",
   "execution_count": 12,
   "id": "70e09cdb",
   "metadata": {},
   "outputs": [
    {
     "name": "stdout",
     "output_type": "stream",
     "text": [
      "Nodes to train: 140\n",
      "Nodes to test: 1000\n",
      "Nodes to validate: 500\n"
     ]
    }
   ],
   "source": [
    "print('Nodes to train:',data.train_mask.sum().item())\n",
    "print('Nodes to test:',data.test_mask.sum().item())\n",
    "print('Nodes to validate:',data.val_mask.sum().item())"
   ]
  },
  {
   "cell_type": "markdown",
   "id": "1cfe891f",
   "metadata": {},
   "source": [
    "\n",
    "That information is important as it will indicate to our model which nodes to train against and which to test against, and so on.\n",
    "\n",
    "When training neural networks we train them using batches of data. PyTorch Geometric provides efficient processes to load batches of data.\n",
    "\n",
    "PyTorch Geometric contains a data loader which is a very popular feature in PyTorch to efficiently load data when training neural networks.\n",
    "\n",
    "So let's try to load the data using the built in DataLoader:\n"
   ]
  },
  {
   "cell_type": "code",
   "execution_count": 13,
   "id": "90547f2e",
   "metadata": {},
   "outputs": [],
   "source": [
    "from torch_geometric.datasets import Planetoid\n",
    "from torch_geometric.loader import DataLoader\n",
    "device = torch.device('cuda' if torch.cuda.is_available() else 'cpu')"
   ]
  },
  {
   "cell_type": "code",
   "execution_count": 14,
   "id": "f16a6b75",
   "metadata": {},
   "outputs": [
    {
     "name": "stdout",
     "output_type": "stream",
     "text": [
      "cpu\n"
     ]
    }
   ],
   "source": [
    "print(device)"
   ]
  },
  {
   "cell_type": "code",
   "execution_count": 15,
   "id": "54b91a0e",
   "metadata": {},
   "outputs": [],
   "source": [
    "dataset = Planetoid(root='tmp/Cora',name='Cora')\n",
    "data = dataset[0].to(device)"
   ]
  },
  {
   "cell_type": "markdown",
   "id": "d3b3d5cb",
   "metadata": {},
   "source": [
    "\n",
    "Print some quick statistics about the data:\n"
   ]
  },
  {
   "cell_type": "code",
   "execution_count": 16,
   "id": "3bcf1aaf",
   "metadata": {},
   "outputs": [
    {
     "name": "stdout",
     "output_type": "stream",
     "text": [
      "X shape: torch.Size([2708, 1433])\n",
      "Edge shape: torch.Size([2, 10556])\n",
      "Y shape: torch.Size([2708])\n"
     ]
    }
   ],
   "source": [
    "print('X shape:',data.x.shape)\n",
    "print('Edge shape:',data.edge_index.shape)\n",
    "print('Y shape:',data.y.shape)"
   ]
  },
  {
   "cell_type": "markdown",
   "id": "a958418e",
   "metadata": {},
   "source": [
    "Model and Training\n",
    "\n",
    "Finally, let's define a standard GCN to train on the Cora dataset. The aim is to train a model that gets better at predicting the class of the node.\n",
    "\n",
    "To keep thins simple we will use the same model definition as used in the tutorial we adpated the code from. Note that we are using the built-in GCNConv model but you could easily implement your own (something we will cover in a future tutorial).\n",
    "\n",
    "The model below uses two GCNConv layers. The first layer is followed by a non-linearity ReLU and Dropout. The result is fed to the second layer on top of which we apply Softmax to get distribution over the number of classes."
   ]
  },
  {
   "cell_type": "code",
   "execution_count": 17,
   "id": "8d4b5082",
   "metadata": {},
   "outputs": [],
   "source": [
    "import torch.nn.functional as F\n",
    "from torch_geometric.nn import GCNConv\n",
    "\n",
    "class GCN(torch.nn.Module):\n",
    "    def __init__(self):\n",
    "        super().__init__()\n",
    "        \"\"\"Graph convolution network(GCN)\"\"\"\n",
    "        self.conv1 = GCNConv(data.num_features,16)\n",
    "        self.conv2 = GCNConv(16,dataset.num_classes)\n",
    "    \n",
    "    def forward(self,data):\n",
    "        x,edge_index = data.x,data.edge_index\n",
    "        x = self.conv1(x,edge_index)\n",
    "        x = F.relu(x)\n",
    "        x = F.dropout(x,training=self.training)\n",
    "        x = self.conv2(x,edge_index)\n",
    "        \n",
    "        return F.log_softmax(x, dim=1)"
   ]
  },
  {
   "cell_type": "markdown",
   "id": "8151777a",
   "metadata": {},
   "source": [
    "Initial model and optimizer"
   ]
  },
  {
   "cell_type": "code",
   "execution_count": 18,
   "id": "79a7a281",
   "metadata": {},
   "outputs": [],
   "source": [
    "model = GCN().to(device)\n",
    "optimizer = torch.optim.Adam(model.parameters(),lr=0.01,weight_decay=5e-4)"
   ]
  },
  {
   "cell_type": "markdown",
   "id": "3128e24d",
   "metadata": {},
   "source": [
    "Define accuracy function for evaluating performance:"
   ]
  },
  {
   "cell_type": "code",
   "execution_count": 19,
   "id": "89ec7980",
   "metadata": {},
   "outputs": [],
   "source": [
    "def compute_accuracy(pred_y, y):\n",
    "    return (pred_y == y).sum()"
   ]
  },
  {
   "cell_type": "markdown",
   "id": "361f93ac",
   "metadata": {},
   "source": [
    "And finally we train the model on the train in nodes for 200 epochs"
   ]
  },
  {
   "cell_type": "code",
   "execution_count": 20,
   "id": "1797fba9",
   "metadata": {},
   "outputs": [
    {
     "name": "stdout",
     "output_type": "stream",
     "text": [
      "Epoch: 10, Loss: 0.8320, Trainin Acc: 0.8857\n",
      "Epoch: 20, Loss: 0.2102, Trainin Acc: 0.9857\n",
      "Epoch: 30, Loss: 0.1496, Trainin Acc: 0.9643\n",
      "Epoch: 40, Loss: 0.0712, Trainin Acc: 0.9857\n",
      "Epoch: 50, Loss: 0.0364, Trainin Acc: 1.0000\n",
      "Epoch: 60, Loss: 0.0499, Trainin Acc: 0.9929\n",
      "Epoch: 70, Loss: 0.0432, Trainin Acc: 1.0000\n",
      "Epoch: 80, Loss: 0.0544, Trainin Acc: 1.0000\n",
      "Epoch: 90, Loss: 0.0365, Trainin Acc: 0.9929\n",
      "Epoch: 100, Loss: 0.0335, Trainin Acc: 1.0000\n",
      "Epoch: 110, Loss: 0.0369, Trainin Acc: 1.0000\n",
      "Epoch: 120, Loss: 0.0332, Trainin Acc: 1.0000\n",
      "Epoch: 130, Loss: 0.0333, Trainin Acc: 1.0000\n",
      "Epoch: 140, Loss: 0.0211, Trainin Acc: 1.0000\n",
      "Epoch: 150, Loss: 0.0263, Trainin Acc: 1.0000\n",
      "Epoch: 160, Loss: 0.0352, Trainin Acc: 0.9929\n",
      "Epoch: 170, Loss: 0.0298, Trainin Acc: 1.0000\n",
      "Epoch: 180, Loss: 0.0401, Trainin Acc: 0.9929\n",
      "Epoch: 190, Loss: 0.0173, Trainin Acc: 1.0000\n",
      "Epoch: 200, Loss: 0.0187, Trainin Acc: 1.0000\n"
     ]
    }
   ],
   "source": [
    "model.train()\n",
    "losses =[]\n",
    "accuracies = []\n",
    "for epoch in range(200):\n",
    "    optimizer.zero_grad()\n",
    "    out = model(data)\n",
    "    \n",
    "    loss = F.nll_loss(out[data.train_mask],data.y[data.train_mask])\n",
    "    correct = compute_accuracy(out.argmax(dim=1)[data.train_mask],data.y[data.train_mask])\n",
    "    acc = int(correct) / int(data.train_mask.sum())\n",
    "    losses.append(loss.item())\n",
    "    accuracies.append(acc)\n",
    "    \n",
    "    loss.backward()\n",
    "    optimizer.step()\n",
    "    if (epoch+1) % 10 == 0:\n",
    "        print('Epoch: {}, Loss: {:.4f}, Trainin Acc: {:.4f}'.format(epoch+1,loss.item(),acc))\n",
    "        "
   ]
  },
  {
   "cell_type": "code",
   "execution_count": 21,
   "id": "917ff414",
   "metadata": {},
   "outputs": [
    {
     "data": {
      "image/png": "[encoded data removed]",
      "text/plain": [
       "<Figure size 432x288 with 1 Axes>"
      ]
     },
     "metadata": {
      "needs_background": "light"
     },
     "output_type": "display_data"
    }
   ],
   "source": [
    "import matplotlib.pyplot as plt\n",
    "plt.plot(losses)\n",
    "plt.plot(accuracies)\n",
    "plt.legend(['Loss','Accuracy'])\n",
    "plt.show()"
   ]
  },
  {
   "cell_type": "markdown",
   "id": "45535c7b",
   "metadata": {},
   "source": [
    "It looks like the model achieves a very high accuracy and small loss on the training dataset.\n",
    "\n"
   ]
  },
  {
   "cell_type": "code",
   "execution_count": 22,
   "id": "ea08add7",
   "metadata": {},
   "outputs": [
    {
     "name": "stdout",
     "output_type": "stream",
     "text": [
      "Accuracy: 0.7960\n"
     ]
    }
   ],
   "source": [
    "model.eval()\n",
    "pred = model(data).argmax(dim=1)\n",
    "correct = compute_accuracy(pred[data.test_mask],data.y[data.test_mask])\n",
    "acc = int(correct) / int(data.test_mask.sum())\n",
    "print(f'Accuracy: {acc:.4f}')"
   ]
  },
  {
   "cell_type": "code",
   "execution_count": null,
   "id": "ed9cd8a3",
   "metadata": {},
   "outputs": [],
   "source": []
  }
 ],
 "metadata": {
  "kernelspec": {
   "display_name": "Python 3 (ipykernel)",
   "language": "python",
   "name": "python3"
  },
  "language_info": {
   "codemirror_mode": {
    "name": "ipython",
    "version": 3
   },
   "file_extension": ".py",
   "mimetype": "text/x-python",
   "name": "python",
   "nbconvert_exporter": "python",
   "pygments_lexer": "ipython3",
   "version": "3.8.13"
  }
 },
 "nbformat": 4,
 "nbformat_minor": 5
}
